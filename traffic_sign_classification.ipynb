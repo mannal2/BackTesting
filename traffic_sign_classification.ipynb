{
  "nbformat": 4,
  "nbformat_minor": 0,
  "metadata": {
    "colab": {
      "provenance": [],
      "gpuType": "T4"
    },
    "kernelspec": {
      "name": "python3",
      "display_name": "Python 3"
    },
    "language_info": {
      "name": "python"
    },
    "accelerator": "GPU"
  },
  "cells": [
    {
      "cell_type": "code",
      "execution_count": null,
      "metadata": {
        "colab": {
          "base_uri": "https://localhost:8080/",
          "height": 95
        },
        "id": "k5JwXI8np3rP",
        "outputId": "1669fae7-d878-4af2-8dac-280a2fa719bf"
      },
      "outputs": [
        {
          "output_type": "display_data",
          "data": {
            "text/plain": [
              "<IPython.core.display.HTML object>"
            ],
            "text/html": [
              "\n",
              "     <input type=\"file\" id=\"files-3e28ed49-98ea-447a-9439-45c27a86f694\" name=\"files[]\" multiple disabled\n",
              "        style=\"border:none\" />\n",
              "     <output id=\"result-3e28ed49-98ea-447a-9439-45c27a86f694\">\n",
              "      Upload widget is only available when the cell has been executed in the\n",
              "      current browser session. Please rerun this cell to enable.\n",
              "      </output>\n",
              "      <script>// Copyright 2017 Google LLC\n",
              "//\n",
              "// Licensed under the Apache License, Version 2.0 (the \"License\");\n",
              "// you may not use this file except in compliance with the License.\n",
              "// You may obtain a copy of the License at\n",
              "//\n",
              "//      http://www.apache.org/licenses/LICENSE-2.0\n",
              "//\n",
              "// Unless required by applicable law or agreed to in writing, software\n",
              "// distributed under the License is distributed on an \"AS IS\" BASIS,\n",
              "// WITHOUT WARRANTIES OR CONDITIONS OF ANY KIND, either express or implied.\n",
              "// See the License for the specific language governing permissions and\n",
              "// limitations under the License.\n",
              "\n",
              "/**\n",
              " * @fileoverview Helpers for google.colab Python module.\n",
              " */\n",
              "(function(scope) {\n",
              "function span(text, styleAttributes = {}) {\n",
              "  const element = document.createElement('span');\n",
              "  element.textContent = text;\n",
              "  for (const key of Object.keys(styleAttributes)) {\n",
              "    element.style[key] = styleAttributes[key];\n",
              "  }\n",
              "  return element;\n",
              "}\n",
              "\n",
              "// Max number of bytes which will be uploaded at a time.\n",
              "const MAX_PAYLOAD_SIZE = 100 * 1024;\n",
              "\n",
              "function _uploadFiles(inputId, outputId) {\n",
              "  const steps = uploadFilesStep(inputId, outputId);\n",
              "  const outputElement = document.getElementById(outputId);\n",
              "  // Cache steps on the outputElement to make it available for the next call\n",
              "  // to uploadFilesContinue from Python.\n",
              "  outputElement.steps = steps;\n",
              "\n",
              "  return _uploadFilesContinue(outputId);\n",
              "}\n",
              "\n",
              "// This is roughly an async generator (not supported in the browser yet),\n",
              "// where there are multiple asynchronous steps and the Python side is going\n",
              "// to poll for completion of each step.\n",
              "// This uses a Promise to block the python side on completion of each step,\n",
              "// then passes the result of the previous step as the input to the next step.\n",
              "function _uploadFilesContinue(outputId) {\n",
              "  const outputElement = document.getElementById(outputId);\n",
              "  const steps = outputElement.steps;\n",
              "\n",
              "  const next = steps.next(outputElement.lastPromiseValue);\n",
              "  return Promise.resolve(next.value.promise).then((value) => {\n",
              "    // Cache the last promise value to make it available to the next\n",
              "    // step of the generator.\n",
              "    outputElement.lastPromiseValue = value;\n",
              "    return next.value.response;\n",
              "  });\n",
              "}\n",
              "\n",
              "/**\n",
              " * Generator function which is called between each async step of the upload\n",
              " * process.\n",
              " * @param {string} inputId Element ID of the input file picker element.\n",
              " * @param {string} outputId Element ID of the output display.\n",
              " * @return {!Iterable<!Object>} Iterable of next steps.\n",
              " */\n",
              "function* uploadFilesStep(inputId, outputId) {\n",
              "  const inputElement = document.getElementById(inputId);\n",
              "  inputElement.disabled = false;\n",
              "\n",
              "  const outputElement = document.getElementById(outputId);\n",
              "  outputElement.innerHTML = '';\n",
              "\n",
              "  const pickedPromise = new Promise((resolve) => {\n",
              "    inputElement.addEventListener('change', (e) => {\n",
              "      resolve(e.target.files);\n",
              "    });\n",
              "  });\n",
              "\n",
              "  const cancel = document.createElement('button');\n",
              "  inputElement.parentElement.appendChild(cancel);\n",
              "  cancel.textContent = 'Cancel upload';\n",
              "  const cancelPromise = new Promise((resolve) => {\n",
              "    cancel.onclick = () => {\n",
              "      resolve(null);\n",
              "    };\n",
              "  });\n",
              "\n",
              "  // Wait for the user to pick the files.\n",
              "  const files = yield {\n",
              "    promise: Promise.race([pickedPromise, cancelPromise]),\n",
              "    response: {\n",
              "      action: 'starting',\n",
              "    }\n",
              "  };\n",
              "\n",
              "  cancel.remove();\n",
              "\n",
              "  // Disable the input element since further picks are not allowed.\n",
              "  inputElement.disabled = true;\n",
              "\n",
              "  if (!files) {\n",
              "    return {\n",
              "      response: {\n",
              "        action: 'complete',\n",
              "      }\n",
              "    };\n",
              "  }\n",
              "\n",
              "  for (const file of files) {\n",
              "    const li = document.createElement('li');\n",
              "    li.append(span(file.name, {fontWeight: 'bold'}));\n",
              "    li.append(span(\n",
              "        `(${file.type || 'n/a'}) - ${file.size} bytes, ` +\n",
              "        `last modified: ${\n",
              "            file.lastModifiedDate ? file.lastModifiedDate.toLocaleDateString() :\n",
              "                                    'n/a'} - `));\n",
              "    const percent = span('0% done');\n",
              "    li.appendChild(percent);\n",
              "\n",
              "    outputElement.appendChild(li);\n",
              "\n",
              "    const fileDataPromise = new Promise((resolve) => {\n",
              "      const reader = new FileReader();\n",
              "      reader.onload = (e) => {\n",
              "        resolve(e.target.result);\n",
              "      };\n",
              "      reader.readAsArrayBuffer(file);\n",
              "    });\n",
              "    // Wait for the data to be ready.\n",
              "    let fileData = yield {\n",
              "      promise: fileDataPromise,\n",
              "      response: {\n",
              "        action: 'continue',\n",
              "      }\n",
              "    };\n",
              "\n",
              "    // Use a chunked sending to avoid message size limits. See b/62115660.\n",
              "    let position = 0;\n",
              "    do {\n",
              "      const length = Math.min(fileData.byteLength - position, MAX_PAYLOAD_SIZE);\n",
              "      const chunk = new Uint8Array(fileData, position, length);\n",
              "      position += length;\n",
              "\n",
              "      const base64 = btoa(String.fromCharCode.apply(null, chunk));\n",
              "      yield {\n",
              "        response: {\n",
              "          action: 'append',\n",
              "          file: file.name,\n",
              "          data: base64,\n",
              "        },\n",
              "      };\n",
              "\n",
              "      let percentDone = fileData.byteLength === 0 ?\n",
              "          100 :\n",
              "          Math.round((position / fileData.byteLength) * 100);\n",
              "      percent.textContent = `${percentDone}% done`;\n",
              "\n",
              "    } while (position < fileData.byteLength);\n",
              "  }\n",
              "\n",
              "  // All done.\n",
              "  yield {\n",
              "    response: {\n",
              "      action: 'complete',\n",
              "    }\n",
              "  };\n",
              "}\n",
              "\n",
              "scope.google = scope.google || {};\n",
              "scope.google.colab = scope.google.colab || {};\n",
              "scope.google.colab._files = {\n",
              "  _uploadFiles,\n",
              "  _uploadFilesContinue,\n",
              "};\n",
              "})(self);\n",
              "</script> "
            ]
          },
          "metadata": {}
        },
        {
          "output_type": "stream",
          "name": "stdout",
          "text": [
            "Saving kaggle.json to kaggle.json\n"
          ]
        },
        {
          "output_type": "execute_result",
          "data": {
            "text/plain": [
              "{'kaggle.json': b'{\"username\":\"mannal2\",\"key\":\"457a4aa7dd05818b63794d895321ce0e\"}'}"
            ]
          },
          "metadata": {},
          "execution_count": 1
        }
      ],
      "source": [
        "#kaggle api token file upload\n",
        "from google.colab import files\n",
        "files.upload()"
      ]
    },
    {
      "cell_type": "code",
      "source": [
        "#기타 설정\n",
        "!mkdir -p ~/.kaggle\n",
        "!cp kaggle.json ~/.kaggle/\n",
        "!chmod 600 ~/.kaggle/kaggle.json"
      ],
      "metadata": {
        "id": "W6OS7unBqobu"
      },
      "execution_count": null,
      "outputs": []
    },
    {
      "cell_type": "code",
      "source": [
        "#데이터셋 다운로드\n",
        "!kaggle datasets download -d valentynsichkar/traffic-signs-preprocessed"
      ],
      "metadata": {
        "colab": {
          "base_uri": "https://localhost:8080/"
        },
        "id": "3MFIScmArLst",
        "outputId": "d629435c-ae8a-43e8-a900-39e3dabee841"
      },
      "execution_count": null,
      "outputs": [
        {
          "output_type": "stream",
          "name": "stdout",
          "text": [
            "Downloading traffic-signs-preprocessed.zip to /content\n",
            "100% 4.16G/4.16G [00:38<00:00, 189MB/s]\n",
            "100% 4.16G/4.16G [00:38<00:00, 117MB/s]\n"
          ]
        }
      ]
    },
    {
      "cell_type": "code",
      "source": [
        "#데이터셋 압축해제\n",
        "!unzip -o /content/traffic-signs-preprocessed.zip -d /content/datasets/"
      ],
      "metadata": {
        "colab": {
          "base_uri": "https://localhost:8080/"
        },
        "id": "EEBLGt0AteT0",
        "outputId": "bdf4a5c6-9e2a-4ba4-a211-f45961e96e01"
      },
      "execution_count": null,
      "outputs": [
        {
          "output_type": "stream",
          "name": "stdout",
          "text": [
            "Archive:  /content/traffic-signs-preprocessed.zip\n",
            "  inflating: /content/datasets/data0.pickle  \n",
            "  inflating: /content/datasets/data1.pickle  \n",
            "  inflating: /content/datasets/data2.pickle  \n",
            "  inflating: /content/datasets/data3.pickle  \n",
            "  inflating: /content/datasets/data4.pickle  \n",
            "  inflating: /content/datasets/data5.pickle  \n",
            "  inflating: /content/datasets/data6.pickle  \n",
            "  inflating: /content/datasets/data7.pickle  \n",
            "  inflating: /content/datasets/data8.pickle  \n",
            "  inflating: /content/datasets/datasets_preparing.py  \n",
            "  inflating: /content/datasets/label_names.csv  \n",
            "  inflating: /content/datasets/labels.pickle  \n",
            "  inflating: /content/datasets/mean_image_gray.pickle  \n",
            "  inflating: /content/datasets/mean_image_rgb.pickle  \n",
            "  inflating: /content/datasets/std_gray.pickle  \n",
            "  inflating: /content/datasets/std_rgb.pickle  \n",
            "  inflating: /content/datasets/test.pickle  \n",
            "  inflating: /content/datasets/train.pickle  \n",
            "  inflating: /content/datasets/valid.pickle  \n"
          ]
        }
      ]
    },
    {
      "cell_type": "code",
      "source": [
        "import pickle\n",
        "import pandas as pd\n",
        "import numpy as np\n",
        "#데이터 로드\n",
        "datasets = pd.read_pickle('/content/datasets/data5.pickle')"
      ],
      "metadata": {
        "id": "DG1_usWZt-p4"
      },
      "execution_count": null,
      "outputs": []
    },
    {
      "cell_type": "code",
      "source": [
        "#데이터 분할 및 표준화\n",
        "train_scaled = datasets['x_train'] / 255.0\n",
        "train_scaled = train_scaled.reshape(-1, 32, 32, 1)\n",
        "train_target = datasets['y_train']\n",
        "\n",
        "val_scaled = datasets['x_validation']/255.0\n",
        "val_scaled = val_scaled.reshape(-1, 32, 32, 1)\n",
        "val_target = datasets['y_validation']\n",
        "\n",
        "test_scaled = datasets['x_test']/255.0\n",
        "test_scaled = test_scaled.reshape(-1, 32, 32, 1)\n",
        "test_target = datasets['y_test']\n",
        "\n",
        "print(train_scaled.shape, train_target.shape)\n",
        "print(val_scaled.shape, val_target.shape)\n",
        "print(test_scaled.shape, test_target.shape)"
      ],
      "metadata": {
        "colab": {
          "base_uri": "https://localhost:8080/"
        },
        "id": "mhfjeeqRxvx8",
        "outputId": "cd475978-7356-459a-e526-9e6846e6e3e7"
      },
      "execution_count": null,
      "outputs": [
        {
          "output_type": "stream",
          "name": "stdout",
          "text": [
            "(86989, 32, 32, 1) (86989,)\n",
            "(4410, 32, 32, 1) (4410,)\n",
            "(12630, 32, 32, 1) (12630,)\n"
          ]
        }
      ]
    },
    {
      "cell_type": "code",
      "source": [
        "label_names = pd.read_csv('/content/datasets/label_names.csv').to_numpy()\n",
        "print(label_names)"
      ],
      "metadata": {
        "colab": {
          "base_uri": "https://localhost:8080/"
        },
        "id": "PZIonEDiF2Bg",
        "outputId": "f18e6e87-af38-434b-c31b-3043823a81be"
      },
      "execution_count": null,
      "outputs": [
        {
          "output_type": "stream",
          "name": "stdout",
          "text": [
            "[[0 'Speed limit (20km/h)']\n",
            " [1 'Speed limit (30km/h)']\n",
            " [2 'Speed limit (50km/h)']\n",
            " [3 'Speed limit (60km/h)']\n",
            " [4 'Speed limit (70km/h)']\n",
            " [5 'Speed limit (80km/h)']\n",
            " [6 'End of speed limit (80km/h)']\n",
            " [7 'Speed limit (100km/h)']\n",
            " [8 'Speed limit (120km/h)']\n",
            " [9 'No passing']\n",
            " [10 'No passing for vehicles over 3.5 metric tons']\n",
            " [11 'Right-of-way at the next intersection']\n",
            " [12 'Priority road']\n",
            " [13 'Yield']\n",
            " [14 'Stop']\n",
            " [15 'No vehicles']\n",
            " [16 'Vehicles over 3.5 metric tons prohibited']\n",
            " [17 'No entry']\n",
            " [18 'General caution']\n",
            " [19 'Dangerous curve to the left']\n",
            " [20 'Dangerous curve to the right']\n",
            " [21 'Double curve']\n",
            " [22 'Bumpy road']\n",
            " [23 'Slippery road']\n",
            " [24 'Road narrows on the right']\n",
            " [25 'Road work']\n",
            " [26 'Traffic signals']\n",
            " [27 'Pedestrians']\n",
            " [28 'Children crossing']\n",
            " [29 'Bicycles crossing']\n",
            " [30 'Beware of ice/snow']\n",
            " [31 'Wild animals crossing']\n",
            " [32 'End of all speed and passing limits']\n",
            " [33 'Turn right ahead']\n",
            " [34 'Turn left ahead']\n",
            " [35 'Ahead only']\n",
            " [36 'Go straight or right']\n",
            " [37 'Go straight or left']\n",
            " [38 'Keep right']\n",
            " [39 'Keep left']\n",
            " [40 'Roundabout mandatory']\n",
            " [41 'End of no passing']\n",
            " [42 'End of no passing by vehicles over 3.5 metric tons']]\n"
          ]
        }
      ]
    },
    {
      "cell_type": "code",
      "source": [
        "import matplotlib.pyplot as plt"
      ],
      "metadata": {
        "id": "QgNJIPq9G0C3"
      },
      "execution_count": null,
      "outputs": []
    },
    {
      "cell_type": "markdown",
      "source": [
        "##합성곱 신경망1 kernel(16-32-64), Dropout 0.3"
      ],
      "metadata": {
        "id": "jYlnnJR60Yv6"
      }
    },
    {
      "cell_type": "code",
      "source": [
        "from tensorflow import keras\n",
        "model=keras.Sequential()\n",
        "\n",
        "model.add(keras.layers.Conv2D(16, kernel_size=3, activation='relu', padding='same', input_shape=(32, 32, 1)))\n",
        "model.add(keras.layers.MaxPooling2D(2))\n",
        "model.add(keras.layers.Conv2D(32, kernel_size=3, activation='relu', padding='same'))\n",
        "model.add(keras.layers.MaxPooling2D(2))\n",
        "model.add(keras.layers.Conv2D(64, kernel_size=3, activation='relu', padding='same'))\n",
        "model.add(keras.layers.MaxPooling2D(2))"
      ],
      "metadata": {
        "id": "DbfK6td7xyGM"
      },
      "execution_count": null,
      "outputs": []
    },
    {
      "cell_type": "code",
      "source": [
        "model.add(keras.layers.Flatten())\n",
        "model.add(keras.layers.Dense(100, activation='relu'))\n",
        "model.add(keras.layers.Dropout(0.3))\n",
        "model.add(keras.layers.Dense(43, activation='softmax'))"
      ],
      "metadata": {
        "id": "xdI5bXu4yxvd"
      },
      "execution_count": null,
      "outputs": []
    },
    {
      "cell_type": "code",
      "source": [
        "model.summary()\n"
      ],
      "metadata": {
        "colab": {
          "base_uri": "https://localhost:8080/"
        },
        "id": "Q9YXk_b37H8W",
        "outputId": "7b3b2cf5-209a-41ca-a9a4-2f645228461e"
      },
      "execution_count": null,
      "outputs": [
        {
          "output_type": "stream",
          "name": "stdout",
          "text": [
            "Model: \"sequential\"\n",
            "_________________________________________________________________\n",
            " Layer (type)                Output Shape              Param #   \n",
            "=================================================================\n",
            " conv2d (Conv2D)             (None, 32, 32, 16)        160       \n",
            "                                                                 \n",
            " max_pooling2d (MaxPooling2  (None, 16, 16, 16)        0         \n",
            " D)                                                              \n",
            "                                                                 \n",
            " conv2d_1 (Conv2D)           (None, 16, 16, 32)        4640      \n",
            "                                                                 \n",
            " max_pooling2d_1 (MaxPoolin  (None, 8, 8, 32)          0         \n",
            " g2D)                                                            \n",
            "                                                                 \n",
            " conv2d_2 (Conv2D)           (None, 8, 8, 64)          18496     \n",
            "                                                                 \n",
            " max_pooling2d_2 (MaxPoolin  (None, 4, 4, 64)          0         \n",
            " g2D)                                                            \n",
            "                                                                 \n",
            " flatten (Flatten)           (None, 1024)              0         \n",
            "                                                                 \n",
            " dense (Dense)               (None, 100)               102500    \n",
            "                                                                 \n",
            " dropout (Dropout)           (None, 100)               0         \n",
            "                                                                 \n",
            " dense_1 (Dense)             (None, 43)                4343      \n",
            "                                                                 \n",
            "=================================================================\n",
            "Total params: 130139 (508.36 KB)\n",
            "Trainable params: 130139 (508.36 KB)\n",
            "Non-trainable params: 0 (0.00 Byte)\n",
            "_________________________________________________________________\n"
          ]
        }
      ]
    },
    {
      "cell_type": "code",
      "source": [
        "#모델 컴파일과 훈련\n",
        "model.compile(optimizer='adam', loss='sparse_categorical_crossentropy', metrics='accuracy')\n",
        "\n",
        "checkpoint_cb=keras.callbacks.ModelCheckpoint('best_cnn_model.h5')\n",
        "early_stopping_cb = keras.callbacks.EarlyStopping(patience=3, restore_best_weights=True)\n",
        "\n",
        "history = model.fit(train_scaled, train_target, epochs=20, validation_data=(val_scaled, val_target),\n",
        "                    callbacks=[checkpoint_cb, early_stopping_cb])\n"
      ],
      "metadata": {
        "colab": {
          "base_uri": "https://localhost:8080/"
        },
        "id": "UriDk1yh7JZF",
        "outputId": "e843b558-2cb1-4b04-bcb5-e42732203cc5"
      },
      "execution_count": null,
      "outputs": [
        {
          "output_type": "stream",
          "name": "stdout",
          "text": [
            "Epoch 1/20\n",
            "2719/2719 [==============================] - 15s 5ms/step - loss: 0.0853 - accuracy: 0.9734 - val_loss: 0.1307 - val_accuracy: 0.9685\n",
            "Epoch 2/20\n",
            "2719/2719 [==============================] - 14s 5ms/step - loss: 0.0702 - accuracy: 0.9777 - val_loss: 0.1166 - val_accuracy: 0.9751\n",
            "Epoch 3/20\n",
            "2719/2719 [==============================] - 13s 5ms/step - loss: 0.0587 - accuracy: 0.9809 - val_loss: 0.1574 - val_accuracy: 0.9683\n",
            "Epoch 4/20\n",
            "2719/2719 [==============================] - 14s 5ms/step - loss: 0.0540 - accuracy: 0.9832 - val_loss: 0.1688 - val_accuracy: 0.9717\n",
            "Epoch 5/20\n",
            "2719/2719 [==============================] - 13s 5ms/step - loss: 0.0476 - accuracy: 0.9846 - val_loss: 0.1384 - val_accuracy: 0.9732\n"
          ]
        }
      ]
    },
    {
      "cell_type": "code",
      "source": [
        "plt.plot(history.history['loss'])\n",
        "plt.plot(history.history['val_loss'])\n",
        "plt.xlabel('epoch')\n",
        "plt.ylabel('loss')\n",
        "plt.legend(['train', 'val'])\n",
        "plt.show()"
      ],
      "metadata": {
        "colab": {
          "base_uri": "https://localhost:8080/",
          "height": 449
        },
        "id": "AZXaSTD58Tl-",
        "outputId": "cd285c42-785a-4888-98ec-40a70885b092"
      },
      "execution_count": null,
      "outputs": [
        {
          "output_type": "display_data",
          "data": {
            "text/plain": [
              "<Figure size 640x480 with 1 Axes>"
            ],
            "image/png": "[encoded data removed]"
          },
          "metadata": {}
        }
      ]
    },
    {
      "cell_type": "markdown",
      "source": [
        "##합성곱 신경망1 평가와 예측"
      ],
      "metadata": {
        "id": "7yHCh-LxHTp6"
      }
    },
    {
      "cell_type": "code",
      "source": [
        "model.evaluate(test_scaled, test_target)"
      ],
      "metadata": {
        "colab": {
          "base_uri": "https://localhost:8080/"
        },
        "id": "iM4qAprGHDIm",
        "outputId": "600964b0-d63b-4d01-c5b5-7a27fc0ed503"
      },
      "execution_count": null,
      "outputs": [
        {
          "output_type": "stream",
          "name": "stdout",
          "text": [
            "395/395 [==============================] - 1s 3ms/step - loss: 0.2381 - accuracy: 0.9542\n"
          ]
        },
        {
          "output_type": "execute_result",
          "data": {
            "text/plain": [
              "[0.23808132112026215, 0.9542359709739685]"
            ]
          },
          "metadata": {},
          "execution_count": 40
        }
      ]
    },
    {
      "cell_type": "code",
      "source": [
        "plt.imshow(val_scaled[1].reshape(32, 32), cmap='gray_r')\n",
        "plt.show()"
      ],
      "metadata": {
        "colab": {
          "base_uri": "https://localhost:8080/",
          "height": 430
        },
        "id": "7on8hjpZHbsE",
        "outputId": "7c845140-1563-4aa4-8e85-c9612d0fedb3"
      },
      "execution_count": null,
      "outputs": [
        {
          "output_type": "display_data",
          "data": {
            "text/plain": [
              "<Figure size 640x480 with 1 Axes>"
            ],
            "image/png": "[encoded data removed]"
          },
          "metadata": {}
        }
      ]
    },
    {
      "cell_type": "code",
      "source": [
        "preds=model.predict(val_scaled[1:2])\n",
        "print(preds)"
      ],
      "metadata": {
        "colab": {
          "base_uri": "https://localhost:8080/"
        },
        "id": "BBVznR_KHheO",
        "outputId": "c65e663d-c70f-48bf-f003-86c8d5c4873e"
      },
      "execution_count": null,
      "outputs": [
        {
          "output_type": "stream",
          "name": "stdout",
          "text": [
            "1/1 [==============================] - 0s 70ms/step\n",
            "[[2.34462359e-18 4.62029540e-17 6.18271212e-16 3.45840648e-11\n",
            "  2.07763159e-27 7.36520066e-19 1.15444574e-27 5.37281415e-19\n",
            "  4.69519865e-19 2.35430685e-11 4.87691495e-17 1.91305617e-11\n",
            "  5.98792281e-15 1.08596415e-17 1.83009591e-17 1.51126415e-18\n",
            "  7.75670934e-12 6.46116203e-16 6.27914348e-23 8.65894216e-13\n",
            "  1.50278129e-22 7.25922347e-14 7.90061286e-21 1.06810694e-09\n",
            "  7.65918661e-25 5.51275978e-14 5.91248281e-20 7.78572089e-22\n",
            "  1.91918591e-14 1.87936062e-14 5.34914420e-07 1.39361787e-18\n",
            "  3.67725675e-19 1.32892481e-14 1.00172709e-11 2.37406013e-07\n",
            "  2.65435854e-23 9.99999285e-01 1.70584866e-11 5.04878050e-09\n",
            "  2.42332927e-08 2.55691479e-20 2.36412870e-27]]\n"
          ]
        }
      ]
    },
    {
      "cell_type": "code",
      "source": [
        "print(label_names[np.argmax(preds)])"
      ],
      "metadata": {
        "colab": {
          "base_uri": "https://localhost:8080/"
        },
        "id": "G3SOieSRHmGN",
        "outputId": "39fd675e-48f5-4652-dba6-cf737eeb8f8f"
      },
      "execution_count": null,
      "outputs": [
        {
          "output_type": "stream",
          "name": "stdout",
          "text": [
            "[37 'Go straight or left']\n"
          ]
        }
      ]
    },
    {
      "cell_type": "markdown",
      "source": [
        "##합성곱신경망2 kernel(16-32-64), Dropout 0.4"
      ],
      "metadata": {
        "id": "_Mpye3ZDIpG3"
      }
    },
    {
      "cell_type": "code",
      "source": [
        "model2=keras.Sequential()\n",
        "\n",
        "model2.add(keras.layers.Conv2D(16, kernel_size=3, activation='relu', padding='same', input_shape=(32, 32, 1)))\n",
        "model2.add(keras.layers.MaxPooling2D(2))\n",
        "model2.add(keras.layers.Conv2D(32, kernel_size=3, activation='relu', padding='same'))\n",
        "model2.add(keras.layers.MaxPooling2D(2))\n",
        "model2.add(keras.layers.Conv2D(64, kernel_size=3, activation='relu', padding='same'))\n",
        "model2.add(keras.layers.MaxPooling2D(2))"
      ],
      "metadata": {
        "id": "vAIF1JTMIyQX"
      },
      "execution_count": null,
      "outputs": []
    },
    {
      "cell_type": "code",
      "source": [
        "model2.add(keras.layers.Flatten())\n",
        "model2.add(keras.layers.Dense(100, activation='relu'))\n",
        "model2.add(keras.layers.Dropout(0.4))\n",
        "model2.add(keras.layers.Dense(43, activation='softmax'))\n",
        "model2.summary()"
      ],
      "metadata": {
        "colab": {
          "base_uri": "https://localhost:8080/"
        },
        "id": "12yhoRMqI8Ub",
        "outputId": "2d5872db-f010-4e68-a31a-673c0a5e968d"
      },
      "execution_count": null,
      "outputs": [
        {
          "output_type": "stream",
          "name": "stdout",
          "text": [
            "Model: \"sequential_1\"\n",
            "_________________________________________________________________\n",
            " Layer (type)                Output Shape              Param #   \n",
            "=================================================================\n",
            " conv2d_3 (Conv2D)           (None, 32, 32, 16)        160       \n",
            "                                                                 \n",
            " max_pooling2d_3 (MaxPoolin  (None, 16, 16, 16)        0         \n",
            " g2D)                                                            \n",
            "                                                                 \n",
            " conv2d_4 (Conv2D)           (None, 16, 16, 32)        4640      \n",
            "                                                                 \n",
            " max_pooling2d_4 (MaxPoolin  (None, 8, 8, 32)          0         \n",
            " g2D)                                                            \n",
            "                                                                 \n",
            " conv2d_5 (Conv2D)           (None, 8, 8, 64)          18496     \n",
            "                                                                 \n",
            " max_pooling2d_5 (MaxPoolin  (None, 4, 4, 64)          0         \n",
            " g2D)                                                            \n",
            "                                                                 \n",
            " flatten_1 (Flatten)         (None, 1024)              0         \n",
            "                                                                 \n",
            " dense_2 (Dense)             (None, 100)               102500    \n",
            "                                                                 \n",
            " dropout_1 (Dropout)         (None, 100)               0         \n",
            "                                                                 \n",
            " dense_3 (Dense)             (None, 43)                4343      \n",
            "                                                                 \n",
            " flatten_2 (Flatten)         (None, 43)                0         \n",
            "                                                                 \n",
            " dense_4 (Dense)             (None, 100)               4400      \n",
            "                                                                 \n",
            " dropout_2 (Dropout)         (None, 100)               0         \n",
            "                                                                 \n",
            " dense_5 (Dense)             (None, 43)                4343      \n",
            "                                                                 \n",
            "=================================================================\n",
            "Total params: 138882 (542.51 KB)\n",
            "Trainable params: 138882 (542.51 KB)\n",
            "Non-trainable params: 0 (0.00 Byte)\n",
            "_________________________________________________________________\n"
          ]
        }
      ]
    },
    {
      "cell_type": "code",
      "source": [
        "#모델 컴파일과 훈련\n",
        "model2.compile(optimizer='adam', loss='sparse_categorical_crossentropy', metrics='accuracy')\n",
        "\n",
        "checkpoint_cb2=keras.callbacks.ModelCheckpoint('best_cnn_model2.h5')\n",
        "early_stopping_cb2 = keras.callbacks.EarlyStopping(patience=3, restore_best_weights=True)\n",
        "\n",
        "history2 = model2.fit(train_scaled, train_target, epochs=20, validation_data=(val_scaled, val_target),\n",
        "                      callbacks=[checkpoint_cb2, early_stopping_cb2])\n"
      ],
      "metadata": {
        "colab": {
          "base_uri": "https://localhost:8080/"
        },
        "id": "_K-aJGxzJSzz",
        "outputId": "1d49e5a0-c67c-43a7-ff9b-06e3e0a4901e"
      },
      "execution_count": null,
      "outputs": [
        {
          "output_type": "stream",
          "name": "stdout",
          "text": [
            "Epoch 1/20\n",
            "2719/2719 [==============================] - 17s 5ms/step - loss: 0.2663 - accuracy: 0.9025 - val_loss: 0.2734 - val_accuracy: 0.9193\n",
            "Epoch 2/20\n",
            "2719/2719 [==============================] - 15s 5ms/step - loss: 0.2373 - accuracy: 0.9221 - val_loss: 0.1516 - val_accuracy: 0.9635\n",
            "Epoch 3/20\n",
            "2719/2719 [==============================] - 15s 5ms/step - loss: 0.1856 - accuracy: 0.9491 - val_loss: 0.1870 - val_accuracy: 0.9515\n",
            "Epoch 4/20\n",
            "2719/2719 [==============================] - 16s 6ms/step - loss: 0.1549 - accuracy: 0.9582 - val_loss: 0.1438 - val_accuracy: 0.9646\n",
            "Epoch 5/20\n",
            "2719/2719 [==============================] - 15s 6ms/step - loss: 0.1402 - accuracy: 0.9624 - val_loss: 0.2844 - val_accuracy: 0.9601\n",
            "Epoch 6/20\n",
            "2719/2719 [==============================] - 18s 7ms/step - loss: 0.1246 - accuracy: 0.9662 - val_loss: 0.1670 - val_accuracy: 0.9683\n",
            "Epoch 7/20\n",
            "2719/2719 [==============================] - 15s 6ms/step - loss: 0.1105 - accuracy: 0.9705 - val_loss: 0.1490 - val_accuracy: 0.9660\n"
          ]
        }
      ]
    },
    {
      "cell_type": "code",
      "source": [
        "plt.plot(history2.history['loss'])\n",
        "plt.plot(history2.history['val_loss'])\n",
        "plt.xlabel('epoch')\n",
        "plt.ylabel('loss')\n",
        "plt.legend(['train', 'val'])\n",
        "plt.show()"
      ],
      "metadata": {
        "colab": {
          "base_uri": "https://localhost:8080/",
          "height": 449
        },
        "id": "gw7mmcG_MMTx",
        "outputId": "9dd208a1-0126-4806-88a0-5d03786409c9"
      },
      "execution_count": null,
      "outputs": [
        {
          "output_type": "display_data",
          "data": {
            "text/plain": [
              "<Figure size 640x480 with 1 Axes>"
            ],
            "image/png": "[encoded data removed]"
          },
          "metadata": {}
        }
      ]
    },
    {
      "cell_type": "markdown",
      "source": [
        "##합성곱신경망2 평가와 예측\n"
      ],
      "metadata": {
        "id": "b2ybSM1WMdev"
      }
    },
    {
      "cell_type": "code",
      "source": [
        "model2.evaluate(test_scaled, test_target)"
      ],
      "metadata": {
        "colab": {
          "base_uri": "https://localhost:8080/"
        },
        "id": "fxGrNDqoMf7Z",
        "outputId": "35ca166a-4750-4c06-9151-abb7926d91b3"
      },
      "execution_count": null,
      "outputs": [
        {
          "output_type": "stream",
          "name": "stdout",
          "text": [
            "395/395 [==============================] - 1s 3ms/step - loss: 0.3821 - accuracy: 0.9208\n"
          ]
        },
        {
          "output_type": "execute_result",
          "data": {
            "text/plain": [
              "[0.38210660219192505, 0.9208234548568726]"
            ]
          },
          "metadata": {},
          "execution_count": 44
        }
      ]
    },
    {
      "cell_type": "code",
      "source": [
        "plt.imshow(val_scaled[2].reshape(32, 32), cmap='gray_r')\n",
        "plt.show()"
      ],
      "metadata": {
        "colab": {
          "base_uri": "https://localhost:8080/",
          "height": 430
        },
        "id": "m-Ejgr8yMogB",
        "outputId": "eee7ff4a-ac58-4f8d-d223-ba040393dcda"
      },
      "execution_count": null,
      "outputs": [
        {
          "output_type": "display_data",
          "data": {
            "text/plain": [
              "<Figure size 640x480 with 1 Axes>"
            ],
            "image/png": "[encoded data removed]"
          },
          "metadata": {}
        }
      ]
    },
    {
      "cell_type": "code",
      "source": [
        "preds2=model.predict(val_scaled[2:3])\n",
        "print(preds2)"
      ],
      "metadata": {
        "colab": {
          "base_uri": "https://localhost:8080/"
        },
        "id": "9H4wtbTkMt9t",
        "outputId": "2046afa2-81fd-4dc7-eeb2-11057504e03a"
      },
      "execution_count": null,
      "outputs": [
        {
          "output_type": "stream",
          "name": "stdout",
          "text": [
            "1/1 [==============================] - 0s 19ms/step\n",
            "[[0.00000000e+00 1.45630818e-29 1.03697686e-35 3.47455481e-26\n",
            "  0.00000000e+00 2.29369041e-30 0.00000000e+00 0.00000000e+00\n",
            "  1.49182703e-30 0.00000000e+00 2.44237332e-24 3.51338107e-33\n",
            "  4.42249128e-35 0.00000000e+00 0.00000000e+00 7.55523682e-35\n",
            "  0.00000000e+00 0.00000000e+00 7.63318220e-23 3.97080686e-26\n",
            "  5.09086124e-34 1.56145509e-14 1.69614581e-30 3.11570922e-20\n",
            "  2.34909764e-36 2.22071286e-16 5.90099097e-29 6.62720527e-35\n",
            "  2.91009942e-31 2.41579520e-19 2.88520066e-35 1.00000000e+00\n",
            "  0.00000000e+00 0.00000000e+00 0.00000000e+00 0.00000000e+00\n",
            "  0.00000000e+00 0.00000000e+00 6.93891933e-36 2.96891963e-33\n",
            "  0.00000000e+00 0.00000000e+00 0.00000000e+00]]\n"
          ]
        }
      ]
    },
    {
      "cell_type": "code",
      "source": [
        "print(label_names[np.argmax(preds2)])"
      ],
      "metadata": {
        "colab": {
          "base_uri": "https://localhost:8080/"
        },
        "id": "QNDt05uLMyA0",
        "outputId": "5b137790-20f9-4044-98fb-844713398dd0"
      },
      "execution_count": null,
      "outputs": [
        {
          "output_type": "stream",
          "name": "stdout",
          "text": [
            "[31 'Wild animals crossing']\n"
          ]
        }
      ]
    },
    {
      "cell_type": "markdown",
      "source": [
        "##합성곱신경망3 kernel(32-64), Dropout 0.3"
      ],
      "metadata": {
        "id": "EHl2Qa0cNdz9"
      }
    },
    {
      "cell_type": "code",
      "source": [
        "model3=keras.Sequential()\n",
        "\n",
        "model3.add(keras.layers.Conv2D(32, kernel_size=3, activation='relu', padding='same', input_shape=(32, 32, 1)))\n",
        "model3.add(keras.layers.MaxPooling2D(2))\n",
        "model3.add(keras.layers.Conv2D(64, kernel_size=3, activation='relu', padding='same'))\n",
        "model3.add(keras.layers.MaxPooling2D(2))"
      ],
      "metadata": {
        "id": "96DJ30bWNg8P"
      },
      "execution_count": null,
      "outputs": []
    },
    {
      "cell_type": "code",
      "source": [
        "model3.add(keras.layers.Flatten())\n",
        "model3.add(keras.layers.Dense(100, activation='relu'))\n",
        "model3.add(keras.layers.Dropout(0.3))\n",
        "model3.add(keras.layers.Dense(43, activation='softmax'))\n",
        "model3.summary()"
      ],
      "metadata": {
        "colab": {
          "base_uri": "https://localhost:8080/"
        },
        "id": "VMZZELpUNxuy",
        "outputId": "36d1373a-c5e6-49e7-c8ce-e8ea1c90a326"
      },
      "execution_count": null,
      "outputs": [
        {
          "output_type": "stream",
          "name": "stdout",
          "text": [
            "Model: \"sequential_3\"\n",
            "_________________________________________________________________\n",
            " Layer (type)                Output Shape              Param #   \n",
            "=================================================================\n",
            " conv2d_8 (Conv2D)           (None, 32, 32, 32)        320       \n",
            "                                                                 \n",
            " max_pooling2d_8 (MaxPoolin  (None, 16, 16, 32)        0         \n",
            " g2D)                                                            \n",
            "                                                                 \n",
            " conv2d_9 (Conv2D)           (None, 16, 16, 64)        18496     \n",
            "                                                                 \n",
            " max_pooling2d_9 (MaxPoolin  (None, 8, 8, 64)          0         \n",
            " g2D)                                                            \n",
            "                                                                 \n",
            " flatten_3 (Flatten)         (None, 4096)              0         \n",
            "                                                                 \n",
            " dense_6 (Dense)             (None, 100)               409700    \n",
            "                                                                 \n",
            " dropout_3 (Dropout)         (None, 100)               0         \n",
            "                                                                 \n",
            " dense_7 (Dense)             (None, 43)                4343      \n",
            "                                                                 \n",
            "=================================================================\n",
            "Total params: 432859 (1.65 MB)\n",
            "Trainable params: 432859 (1.65 MB)\n",
            "Non-trainable params: 0 (0.00 Byte)\n",
            "_________________________________________________________________\n"
          ]
        }
      ]
    },
    {
      "cell_type": "code",
      "source": [
        "#모델 컴파일과 훈련\n",
        "model3.compile(optimizer='adam', loss='sparse_categorical_crossentropy', metrics='accuracy')\n",
        "\n",
        "checkpoint_cb3=keras.callbacks.ModelCheckpoint('best_cnn_model3.h5')\n",
        "early_stopping_cb3 = keras.callbacks.EarlyStopping(patience=3, restore_best_weights=True)\n",
        "\n",
        "history3 = model3.fit(train_scaled, train_target, epochs=20, validation_data=(val_scaled, val_target),\n",
        "                      callbacks=[checkpoint_cb3, early_stopping_cb3])\n"
      ],
      "metadata": {
        "colab": {
          "base_uri": "https://localhost:8080/"
        },
        "id": "18hWJ0QiOAEb",
        "outputId": "eac19907-d124-4e57-959a-34c748c7ace5"
      },
      "execution_count": null,
      "outputs": [
        {
          "output_type": "stream",
          "name": "stdout",
          "text": [
            "Epoch 1/20\n",
            "2719/2719 [==============================] - 15s 5ms/step - loss: 0.9561 - accuracy: 0.7256 - val_loss: 0.2480 - val_accuracy: 0.9270\n",
            "Epoch 2/20\n",
            "  29/2719 [..............................] - ETA: 10s - loss: 0.3281 - accuracy: 0.9041"
          ]
        },
        {
          "output_type": "stream",
          "name": "stderr",
          "text": [
            "/usr/local/lib/python3.10/dist-packages/keras/src/engine/training.py:3079: UserWarning: You are saving your model as an HDF5 file via `model.save()`. This file format is considered legacy. We recommend using instead the native Keras format, e.g. `model.save('my_model.keras')`.\n",
            "  saving_api.save_model(\n"
          ]
        },
        {
          "output_type": "stream",
          "name": "stdout",
          "text": [
            "2719/2719 [==============================] - 13s 5ms/step - loss: 0.2967 - accuracy: 0.9090 - val_loss: 0.1564 - val_accuracy: 0.9535\n",
            "Epoch 3/20\n",
            "2719/2719 [==============================] - 12s 4ms/step - loss: 0.1985 - accuracy: 0.9393 - val_loss: 0.1528 - val_accuracy: 0.9612\n",
            "Epoch 4/20\n",
            "2719/2719 [==============================] - 13s 5ms/step - loss: 0.1485 - accuracy: 0.9532 - val_loss: 0.1097 - val_accuracy: 0.9703\n",
            "Epoch 5/20\n",
            "2719/2719 [==============================] - 14s 5ms/step - loss: 0.1186 - accuracy: 0.9616 - val_loss: 0.1106 - val_accuracy: 0.9719\n",
            "Epoch 6/20\n",
            "2719/2719 [==============================] - 13s 5ms/step - loss: 0.0959 - accuracy: 0.9691 - val_loss: 0.1035 - val_accuracy: 0.9746\n",
            "Epoch 7/20\n",
            "2719/2719 [==============================] - 12s 4ms/step - loss: 0.0796 - accuracy: 0.9743 - val_loss: 0.1359 - val_accuracy: 0.9692\n",
            "Epoch 8/20\n",
            "2719/2719 [==============================] - 12s 4ms/step - loss: 0.0710 - accuracy: 0.9770 - val_loss: 0.1623 - val_accuracy: 0.9746\n",
            "Epoch 9/20\n",
            "2719/2719 [==============================] - 13s 5ms/step - loss: 0.0637 - accuracy: 0.9793 - val_loss: 0.1374 - val_accuracy: 0.9732\n"
          ]
        }
      ]
    },
    {
      "cell_type": "code",
      "source": [
        "plt.plot(history3.history['loss'])\n",
        "plt.plot(history3.history['val_loss'])\n",
        "plt.xlabel('epoch')\n",
        "plt.ylabel('loss')\n",
        "plt.legend(['train', 'val'])\n",
        "plt.show()"
      ],
      "metadata": {
        "colab": {
          "base_uri": "https://localhost:8080/",
          "height": 455
        },
        "id": "gduL5dSUO9q3",
        "outputId": "2da94aea-81dd-4b2d-e8ff-84bfe454db33"
      },
      "execution_count": null,
      "outputs": [
        {
          "output_type": "display_data",
          "data": {
            "text/plain": [
              "<Figure size 640x480 with 1 Axes>"
            ],
            "image/png": "[encoded data removed]"
          },
          "metadata": {}
        }
      ]
    },
    {
      "cell_type": "markdown",
      "source": [
        "##합성곱신경망3 평가와 예측\n"
      ],
      "metadata": {
        "id": "3NrRixOoPUfj"
      }
    },
    {
      "cell_type": "code",
      "source": [
        "model3.evaluate(test_scaled, test_target)"
      ],
      "metadata": {
        "colab": {
          "base_uri": "https://localhost:8080/"
        },
        "id": "d1CSzOCAPW5k",
        "outputId": "8426cccb-9aff-4102-820f-cd61ed9bca19"
      },
      "execution_count": null,
      "outputs": [
        {
          "output_type": "stream",
          "name": "stdout",
          "text": [
            "395/395 [==============================] - 2s 5ms/step - loss: 0.2165 - accuracy: 0.9516\n"
          ]
        },
        {
          "output_type": "execute_result",
          "data": {
            "text/plain": [
              "[0.21652837097644806, 0.9516231417655945]"
            ]
          },
          "metadata": {},
          "execution_count": 57
        }
      ]
    },
    {
      "cell_type": "code",
      "source": [
        "plt.imshow(val_scaled[3].reshape(32, 32), cmap='gray_r')\n",
        "plt.show()"
      ],
      "metadata": {
        "colab": {
          "base_uri": "https://localhost:8080/",
          "height": 430
        },
        "id": "0UDLkiMkPu43",
        "outputId": "be7eb6f1-f046-49dc-ddb1-c2d8a58100ad"
      },
      "execution_count": null,
      "outputs": [
        {
          "output_type": "display_data",
          "data": {
            "text/plain": [
              "<Figure size 640x480 with 1 Axes>"
            ],
            "image/png": "[encoded data removed]"
          },
          "metadata": {}
        }
      ]
    },
    {
      "cell_type": "code",
      "source": [
        "preds3=model.predict(val_scaled[3:4])\n",
        "print(preds3)"
      ],
      "metadata": {
        "colab": {
          "base_uri": "https://localhost:8080/"
        },
        "id": "d1je29Q2P0UL",
        "outputId": "be9a8298-50da-46c1-b49f-05eef293a4a5"
      },
      "execution_count": null,
      "outputs": [
        {
          "output_type": "stream",
          "name": "stdout",
          "text": [
            "1/1 [==============================] - 0s 56ms/step\n",
            "[[0.00000000e+00 5.56335204e-32 3.54847401e-30 1.20856641e-21\n",
            "  2.45215268e-35 6.38334458e-28 0.00000000e+00 2.77316133e-32\n",
            "  1.66333936e-30 1.00000000e+00 3.21562633e-15 4.07052829e-33\n",
            "  9.10002402e-18 9.43093751e-23 2.38371829e-27 1.18964221e-15\n",
            "  7.76133384e-19 1.05477096e-19 0.00000000e+00 1.60594705e-36\n",
            "  1.42164341e-24 0.00000000e+00 1.09075912e-34 2.40838169e-24\n",
            "  0.00000000e+00 3.73829632e-38 3.16326563e-35 0.00000000e+00\n",
            "  1.20791308e-34 4.22210057e-33 0.00000000e+00 1.61621057e-36\n",
            "  1.13655450e-24 3.00896230e-33 4.09861812e-27 7.75115682e-26\n",
            "  5.80245416e-24 4.05012331e-36 1.14474293e-25 9.05735039e-27\n",
            "  9.50467135e-26 4.93985557e-22 6.51705382e-33]]\n"
          ]
        }
      ]
    },
    {
      "cell_type": "code",
      "source": [
        "print(label_names[np.argmax(preds3)])"
      ],
      "metadata": {
        "colab": {
          "base_uri": "https://localhost:8080/"
        },
        "id": "gYVqX-dPP8xY",
        "outputId": "759e3866-d24f-46fa-e1e7-5e9e696bd663"
      },
      "execution_count": null,
      "outputs": [
        {
          "output_type": "stream",
          "name": "stdout",
          "text": [
            "[9 'No passing']\n"
          ]
        }
      ]
    },
    {
      "cell_type": "markdown",
      "source": [
        "##합성곱신경망4 kernel(32-64), Dropout 0.4"
      ],
      "metadata": {
        "id": "3tA-uHBVQJI5"
      }
    },
    {
      "cell_type": "code",
      "source": [
        "model4=keras.Sequential()\n",
        "\n",
        "model4.add(keras.layers.Conv2D(32, kernel_size=3, activation='relu', padding='same', input_shape=(32, 32, 1)))\n",
        "model4.add(keras.layers.MaxPooling2D(2))\n",
        "model4.add(keras.layers.Conv2D(64, kernel_size=3, activation='relu', padding='same'))\n",
        "model4.add(keras.layers.MaxPooling2D(2))"
      ],
      "metadata": {
        "id": "-q6RcDrXQOQ1"
      },
      "execution_count": null,
      "outputs": []
    },
    {
      "cell_type": "code",
      "source": [
        "model4.add(keras.layers.Flatten())\n",
        "model4.add(keras.layers.Dense(100, activation='relu'))\n",
        "model4.add(keras.layers.Dropout(0.4))\n",
        "model4.add(keras.layers.Dense(43, activation='softmax'))\n",
        "model4.summary()"
      ],
      "metadata": {
        "colab": {
          "base_uri": "https://localhost:8080/"
        },
        "id": "59RpnpzfQVNB",
        "outputId": "fe83a702-7683-42f2-dfeb-7971c1383d73"
      },
      "execution_count": null,
      "outputs": [
        {
          "output_type": "stream",
          "name": "stdout",
          "text": [
            "Model: \"sequential_4\"\n",
            "_________________________________________________________________\n",
            " Layer (type)                Output Shape              Param #   \n",
            "=================================================================\n",
            " conv2d_10 (Conv2D)          (None, 32, 32, 32)        320       \n",
            "                                                                 \n",
            " max_pooling2d_10 (MaxPooli  (None, 16, 16, 32)        0         \n",
            " ng2D)                                                           \n",
            "                                                                 \n",
            " conv2d_11 (Conv2D)          (None, 16, 16, 64)        18496     \n",
            "                                                                 \n",
            " max_pooling2d_11 (MaxPooli  (None, 8, 8, 64)          0         \n",
            " ng2D)                                                           \n",
            "                                                                 \n",
            " flatten_4 (Flatten)         (None, 4096)              0         \n",
            "                                                                 \n",
            " dense_8 (Dense)             (None, 100)               409700    \n",
            "                                                                 \n",
            " dropout_4 (Dropout)         (None, 100)               0         \n",
            "                                                                 \n",
            " dense_9 (Dense)             (None, 43)                4343      \n",
            "                                                                 \n",
            "=================================================================\n",
            "Total params: 432859 (1.65 MB)\n",
            "Trainable params: 432859 (1.65 MB)\n",
            "Non-trainable params: 0 (0.00 Byte)\n",
            "_________________________________________________________________\n"
          ]
        }
      ]
    },
    {
      "cell_type": "code",
      "source": [
        "#모델 컴파일과 훈련\n",
        "model4.compile(optimizer='adam', loss='sparse_categorical_crossentropy', metrics='accuracy')\n",
        "\n",
        "checkpoint_cb4=keras.callbacks.ModelCheckpoint('best_cnn_model4.h5')\n",
        "early_stopping_cb4 = keras.callbacks.EarlyStopping(patience=3, restore_best_weights=True)\n",
        "\n",
        "history4 = model4.fit(train_scaled, train_target, epochs=20, validation_data=(val_scaled, val_target),\n",
        "                      callbacks=[checkpoint_cb4, early_stopping_cb4])\n"
      ],
      "metadata": {
        "colab": {
          "base_uri": "https://localhost:8080/"
        },
        "id": "HRsWgltnQXD5",
        "outputId": "9e577a71-ec4a-4f78-b7d4-4f96052f7e53"
      },
      "execution_count": null,
      "outputs": [
        {
          "output_type": "stream",
          "name": "stdout",
          "text": [
            "Epoch 1/20\n",
            "2719/2719 [==============================] - 14s 4ms/step - loss: 0.9022 - accuracy: 0.7396 - val_loss: 0.1856 - val_accuracy: 0.9490\n",
            "Epoch 2/20\n",
            "  22/2719 [..............................] - ETA: 13s - loss: 0.3851 - accuracy: 0.8707"
          ]
        },
        {
          "output_type": "stream",
          "name": "stderr",
          "text": [
            "/usr/local/lib/python3.10/dist-packages/keras/src/engine/training.py:3079: UserWarning: You are saving your model as an HDF5 file via `model.save()`. This file format is considered legacy. We recommend using instead the native Keras format, e.g. `model.save('my_model.keras')`.\n",
            "  saving_api.save_model(\n"
          ]
        },
        {
          "output_type": "stream",
          "name": "stdout",
          "text": [
            "2719/2719 [==============================] - 15s 5ms/step - loss: 0.2766 - accuracy: 0.9159 - val_loss: 0.1499 - val_accuracy: 0.9630\n",
            "Epoch 3/20\n",
            "2719/2719 [==============================] - 13s 5ms/step - loss: 0.1849 - accuracy: 0.9427 - val_loss: 0.1535 - val_accuracy: 0.9667\n",
            "Epoch 4/20\n",
            "2719/2719 [==============================] - 13s 5ms/step - loss: 0.1413 - accuracy: 0.9554 - val_loss: 0.1664 - val_accuracy: 0.9692\n",
            "Epoch 5/20\n",
            "2719/2719 [==============================] - 13s 5ms/step - loss: 0.1140 - accuracy: 0.9636 - val_loss: 0.1130 - val_accuracy: 0.9732\n",
            "Epoch 6/20\n",
            "2719/2719 [==============================] - 12s 4ms/step - loss: 0.0948 - accuracy: 0.9694 - val_loss: 0.1012 - val_accuracy: 0.9778\n",
            "Epoch 7/20\n",
            "2719/2719 [==============================] - 12s 5ms/step - loss: 0.0804 - accuracy: 0.9739 - val_loss: 0.1430 - val_accuracy: 0.9755\n",
            "Epoch 8/20\n",
            "2719/2719 [==============================] - 13s 5ms/step - loss: 0.0725 - accuracy: 0.9758 - val_loss: 0.1216 - val_accuracy: 0.9791\n",
            "Epoch 9/20\n",
            "2719/2719 [==============================] - 13s 5ms/step - loss: 0.0620 - accuracy: 0.9794 - val_loss: 0.0954 - val_accuracy: 0.9782\n",
            "Epoch 10/20\n",
            "2719/2719 [==============================] - 12s 4ms/step - loss: 0.0539 - accuracy: 0.9820 - val_loss: 0.1607 - val_accuracy: 0.9757\n",
            "Epoch 11/20\n",
            "2719/2719 [==============================] - 12s 4ms/step - loss: 0.0484 - accuracy: 0.9842 - val_loss: 0.1600 - val_accuracy: 0.9785\n",
            "Epoch 12/20\n",
            "2719/2719 [==============================] - 13s 5ms/step - loss: 0.0433 - accuracy: 0.9858 - val_loss: 0.1006 - val_accuracy: 0.9807\n"
          ]
        }
      ]
    },
    {
      "cell_type": "code",
      "source": [
        "plt.plot(history4.history['loss'])\n",
        "plt.plot(history4.history['val_loss'])\n",
        "plt.xlabel('epoch')\n",
        "plt.ylabel('loss')\n",
        "plt.legend(['train', 'val'])\n",
        "plt.show()"
      ],
      "metadata": {
        "colab": {
          "base_uri": "https://localhost:8080/",
          "height": 449
        },
        "id": "p1G0midWQ-JV",
        "outputId": "87bcb959-d6c8-4b68-e5d4-c82eaf9da6cf"
      },
      "execution_count": null,
      "outputs": [
        {
          "output_type": "display_data",
          "data": {
            "text/plain": [
              "<Figure size 640x480 with 1 Axes>"
            ],
            "image/png": "[encoded data removed]"
          },
          "metadata": {}
        }
      ]
    },
    {
      "cell_type": "markdown",
      "source": [
        "##합성곱신경망4 평가와 예측"
      ],
      "metadata": {
        "id": "WHgooL_LR6Zv"
      }
    },
    {
      "cell_type": "code",
      "source": [
        "model4.evaluate(test_scaled, test_target)"
      ],
      "metadata": {
        "colab": {
          "base_uri": "https://localhost:8080/"
        },
        "id": "P_7mfCtLR7sf",
        "outputId": "b6de3759-5c4d-42aa-d5dc-77c9d3eb3b29"
      },
      "execution_count": null,
      "outputs": [
        {
          "output_type": "stream",
          "name": "stdout",
          "text": [
            "395/395 [==============================] - 1s 3ms/step - loss: 0.1739 - accuracy: 0.9618\n"
          ]
        },
        {
          "output_type": "execute_result",
          "data": {
            "text/plain": [
              "[0.17391511797904968, 0.9617577195167542]"
            ]
          },
          "metadata": {},
          "execution_count": 67
        }
      ]
    },
    {
      "cell_type": "code",
      "source": [
        "plt.imshow(val_scaled[4].reshape(32, 32), cmap='gray_r')\n",
        "plt.show()"
      ],
      "metadata": {
        "colab": {
          "base_uri": "https://localhost:8080/",
          "height": 430
        },
        "id": "kRlVUg3ESDaK",
        "outputId": "860b11cb-0283-4466-edb9-3d9e9a177199"
      },
      "execution_count": null,
      "outputs": [
        {
          "output_type": "display_data",
          "data": {
            "text/plain": [
              "<Figure size 640x480 with 1 Axes>"
            ],
            "image/png": "[encoded data removed]"
          },
          "metadata": {}
        }
      ]
    },
    {
      "cell_type": "code",
      "source": [
        "preds4=model.predict(val_scaled[4:5])\n",
        "print(preds4)"
      ],
      "metadata": {
        "colab": {
          "base_uri": "https://localhost:8080/"
        },
        "id": "HiyyB4a7SIqZ",
        "outputId": "f0581cee-44d9-410c-ffb6-fab6dbfb2708"
      },
      "execution_count": null,
      "outputs": [
        {
          "output_type": "stream",
          "name": "stdout",
          "text": [
            "1/1 [==============================] - 0s 19ms/step\n",
            "[[6.2311398e-30 9.9079983e-23 1.9334176e-17 2.4420483e-12 4.0972613e-18\n",
            "  5.3751987e-18 0.0000000e+00 1.4026244e-29 9.1405190e-26 2.5363018e-13\n",
            "  1.4470102e-22 1.0397437e-31 8.7779599e-17 1.9035075e-14 1.9572150e-18\n",
            "  1.0000000e+00 0.0000000e+00 4.7224965e-30 1.2319633e-18 2.4477893e-34\n",
            "  1.2616204e-34 4.5927928e-34 1.2207761e-28 9.4758216e-33 6.7201767e-35\n",
            "  2.0117057e-21 1.0553760e-24 5.7453669e-38 1.3545232e-34 9.4481194e-29\n",
            "  0.0000000e+00 7.7554024e-22 2.0223727e-26 2.9520211e-28 3.1981500e-27\n",
            "  9.2540411e-21 1.9565092e-22 2.7932526e-37 1.4317059e-17 1.2876339e-25\n",
            "  1.0521305e-27 2.5546781e-32 0.0000000e+00]]\n"
          ]
        }
      ]
    },
    {
      "cell_type": "code",
      "source": [
        "print(label_names[np.argmax(preds4)])"
      ],
      "metadata": {
        "colab": {
          "base_uri": "https://localhost:8080/"
        },
        "id": "fksNKWtVSNeq",
        "outputId": "31072f00-d488-4ed8-e1d9-dfc2b6a1fd55"
      },
      "execution_count": null,
      "outputs": [
        {
          "output_type": "stream",
          "name": "stdout",
          "text": [
            "[15 'No vehicles']\n"
          ]
        }
      ]
    }
  ]
}